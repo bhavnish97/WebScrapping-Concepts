{
  "nbformat": 4,
  "nbformat_minor": 0,
  "metadata": {
    "colab": {
      "provenance": []
    },
    "kernelspec": {
      "name": "python3",
      "display_name": "Python 3"
    },
    "language_info": {
      "name": "python"
    }
  },
  "cells": [
    {
      "cell_type": "code",
      "execution_count": 1,
      "metadata": {
        "id": "TKo1mYgEjv0p"
      },
      "outputs": [],
      "source": [
        "import pandas as pd\n",
        "import numpy as np\n",
        "import requests\n",
        "from bs4 import BeautifulSoup"
      ]
    },
    {
      "cell_type": "code",
      "source": [
        "response = requests.get(\"https://www.smartprix.com/mobiles\")"
      ],
      "metadata": {
        "id": "jRUnzRYqkMyO"
      },
      "execution_count": 3,
      "outputs": []
    },
    {
      "cell_type": "code",
      "source": [
        "response"
      ],
      "metadata": {
        "colab": {
          "base_uri": "https://localhost:8080/"
        },
        "id": "22LE2LZDkM0j",
        "outputId": "60c5e39c-c8ac-4f53-baf7-92b6fb6dde8e"
      },
      "execution_count": 4,
      "outputs": [
        {
          "output_type": "execute_result",
          "data": {
            "text/plain": [
              "<Response [200]>"
            ]
          },
          "metadata": {},
          "execution_count": 4
        }
      ]
    },
    {
      "cell_type": "code",
      "source": [
        "response.content"
      ],
      "metadata": {
        "id": "dJiMYZSEkM2K"
      },
      "execution_count": null,
      "outputs": []
    },
    {
      "cell_type": "code",
      "source": [
        "html = response.content"
      ],
      "metadata": {
        "id": "CNEUmB85kM5k"
      },
      "execution_count": 6,
      "outputs": []
    },
    {
      "cell_type": "code",
      "source": [
        "soup = BeautifulSoup(html, 'lxml')"
      ],
      "metadata": {
        "id": "4_xoymRdkbwF"
      },
      "execution_count": 35,
      "outputs": []
    },
    {
      "cell_type": "code",
      "source": [
        "mobile_phones = soup.find_all('div', {'class':'sm-product has-tag has-features has-actions'})"
      ],
      "metadata": {
        "id": "Uw-tRqajkbyO"
      },
      "execution_count": 38,
      "outputs": []
    },
    {
      "cell_type": "code",
      "source": [
        "mobile_phones"
      ],
      "metadata": {
        "id": "3GSrV2Tbkbz_"
      },
      "execution_count": null,
      "outputs": []
    },
    {
      "cell_type": "code",
      "source": [
        "mobiles = []\n",
        "for mobile_phone in mobile_phones:\n",
        "  mobiles.append(str(mobile_phone))"
      ],
      "metadata": {
        "id": "fVb22MHXkb2O"
      },
      "execution_count": 40,
      "outputs": []
    },
    {
      "cell_type": "code",
      "source": [
        "mobiles[0]"
      ],
      "metadata": {
        "colab": {
          "base_uri": "https://localhost:8080/",
          "height": 109
        },
        "id": "vdP_P1q9kb4d",
        "outputId": "8625763a-3e93-4528-eb2d-62f594017597"
      },
      "execution_count": 41,
      "outputs": [
        {
          "output_type": "execute_result",
          "data": {
            "text/plain": [
              "'<div class=\"sm-product has-tag has-features has-actions\" data-way=\"\"><div class=\"sm-img-wrap\"><img alt=\"OnePlus 11 5G\" class=\"sm-img\" src=\"https://cdn1.smartprix.com/rx-iab0UrrCY-w280-h280/oneplus-11-5g.jpg\"/></div><a class=\"name clamp-2\" data-target=\"_blank\" data-way=\"\" href=\"/mobiles/oneplus-11-5g-ppd12268zbmr\"><h2>OnePlus 11 5G</h2></a><span class=\"price\">₹54,999</span><!-- --><!-- --><div class=\"rating\"><span class=\"sm-rating\" style=\"--rating:4.5;\"><!-- --><i></i></span><!-- --></div><ul class=\"sm-feat specs\"><!--[--><li class=\"\">Dual Sim, 3G, 4G, 5G, VoLTE, Wi-Fi, NFC</li><li class=\"\">Snapdragon 8 Gen2, Octa Core, 3.2\\u2009GHz Processor</li><li class=\"\">12\\u2009GB RAM, 256\\u2009GB inbuilt</li><li class=\"\">5000\\u2009mAh Battery with 100W Fast Charging</li><li class=\"\">6.7 inches, 1440\\u2009x\\u20093216\\u2009px, 120 Hz Display with Punch Hole</li><li class=\"\">50\\u2009MP + 48\\u2009MP + 32\\u2009MP Triple Rear &amp; 16\\u2009MP Front Camera</li><li class=\"s-no\">Memory Card Not Supported</li><li class=\"\">Android v13</li><!--]--></ul><div class=\"tags\"><div class=\"score rank-2-bg\"><b>89</b><small>Spec Score</small></div><!-- --></div><div class=\"sm-product-actions\"><!--[--><button><svg class=\"icon\" style=\"--s:20px;fill:dodgerblue;\" viewbox=\"0 0 24 24\"><path d=\"M17,13H13V17H11V13H7V11H11V7H13V11H17M12,2A10,10 0 0,0 2,12A10,10 0 0,0 12,22A10,10 0 0,0 22,12A10,10 0 0,0 12,2Z\"></path></svg><small>Compare</small></button><button class=\"like\"><svg class=\"icon\" style=\"--s:20px;fill:hotpink;\" viewbox=\"0 0 24 24\"><path d=\"M12.1,18.55L12,18.65L11.89,18.55C7.14,14.24 4,11.39 4,8.5C4,6.5 5.5,5 7.5,5C9.04,5 10.54,6 11.07,7.36H12.93C13.46,6 14.96,5 16.5,5C18.5,5 20,6.5 20,8.5C20,11.39 16.86,14.24 12.1,18.55M16.5,3C14.76,3 13.09,3.81 12,5.08C10.91,3.81 9.24,3 7.5,3C4.42,3 2,5.41 2,8.5C2,12.27 5.4,15.36 10.55,20.03L12,21.35L13.45,20.03C18.6,15.36 22,12.27 22,8.5C22,5.41 19.58,3 16.5,3Z\"></path></svg><small>Like</small></button><a class=\"store\" href=\"https://l.smartprix.com/l?k=12boV_~VxgVDAgWAnob2OxnsThrhArnrysuhy6h-usiahkbPobXXGZPZ5h-hrhhaFhrhrhhacBrWahrhrBi5oobXy6n3hrFB5bGJv~erJViT0\" rel=\"nofollow noopener\" target=\"_blank\"><img alt=\"amazon\" class=\"sm-img\" loading=\"lazy\" src=\"https://cdn1.smartprix.com/rx-iR2NxBi82-w32-h32/amazon.jpg\"/><small>Search →</small></a><!--]--></div><div class=\"tag\">UPCOMING</div></div>'"
            ],
            "application/vnd.google.colaboratory.intrinsic+json": {
              "type": "string"
            }
          },
          "metadata": {},
          "execution_count": 41
        }
      ]
    },
    {
      "cell_type": "code",
      "source": [
        "# find the name of first mobile\n",
        "soup1 = BeautifulSoup(mobiles[0], 'lxml')"
      ],
      "metadata": {
        "id": "0mlHj9Qykb6h"
      },
      "execution_count": 42,
      "outputs": []
    },
    {
      "cell_type": "code",
      "source": [
        "soup1.find(class_='name clamp-2').text"
      ],
      "metadata": {
        "colab": {
          "base_uri": "https://localhost:8080/",
          "height": 36
        },
        "id": "jGmcMJX7kb8f",
        "outputId": "e9133d02-42fa-41bd-be58-234daa67ae62"
      },
      "execution_count": 43,
      "outputs": [
        {
          "output_type": "execute_result",
          "data": {
            "text/plain": [
              "'OnePlus 11 5G'"
            ],
            "application/vnd.google.colaboratory.intrinsic+json": {
              "type": "string"
            }
          },
          "metadata": {},
          "execution_count": 43
        }
      ]
    },
    {
      "cell_type": "code",
      "source": [
        "# get name of all Mobiles\n",
        "\n",
        "mobile_name = []\n",
        "mobile_price= []\n",
        "spec_score = []\n",
        "\n",
        "for mobile in mobiles:\n",
        "  soup1 = BeautifulSoup(mobile, 'lxml')\n",
        "\n",
        "  mobile_name.append(soup1.find(class_='name clamp-2').text)\n",
        "\n",
        "  mobile_price.append(soup1.find(class_='price').text)\n",
        "\n",
        "  try:\n",
        "    spec_score.append(soup1.find(class_='score rank-2-bg').find('b').text)\n",
        "  except:\n",
        "    spec_score.append(\"None\")"
      ],
      "metadata": {
        "id": "SxxkmO2Skb-u"
      },
      "execution_count": 59,
      "outputs": []
    },
    {
      "cell_type": "code",
      "source": [
        "pd.DataFrame({'mobile':mobile_name, 'price':mobile_price, 'spec-score':spec_score})"
      ],
      "metadata": {
        "colab": {
          "base_uri": "https://localhost:8080/",
          "height": 676
        },
        "id": "SF9JoEM0kcAu",
        "outputId": "af7c3f60-2cf3-4a10-c45c-bb9e98c3d854"
      },
      "execution_count": 60,
      "outputs": [
        {
          "output_type": "execute_result",
          "data": {
            "text/plain": [
              "                                     mobile      price spec-score\n",
              "0                             OnePlus 11 5G    ₹54,999         89\n",
              "1                 OnePlus Nord CE 2 Lite 5G    ₹19,949         81\n",
              "2                     Samsung Galaxy A14 5G    ₹16,499         75\n",
              "3   Samsung Galaxy F23 5G (6GB RAM + 128GB)    ₹16,999         80\n",
              "4                      Motorola Moto G62 5G    ₹14,999         81\n",
              "5                        Realme 10 Pro Plus    ₹24,999         82\n",
              "6                           Apple iPhone 14    ₹66,999         81\n",
              "7             Xiaomi Redmi Note 12 Pro Plus    ₹29,999         86\n",
              "8                           Nothing Phone 1    ₹26,749         85\n",
              "9                        OnePlus Nord 2T 5G    ₹28,900         84\n",
              "10                            Realme 10 Pro    ₹18,999         82\n",
              "11                                 Oppo A78    ₹18,999         79\n",
              "12              Xiaomi Redmi Note 12 Pro 5G    ₹24,828         79\n",
              "13             Vivo T1 5G (6GB RAM + 128GB)    ₹16,990         80\n",
              "14                          Apple iPhone 13    ₹62,990         79\n",
              "15              Samsung Galaxy S23 Ultra 5G  ₹1,14,990       None\n",
              "16                                 Vivo Y16     ₹9,999         65\n",
              "17                     OPPO Reno 9 Pro Plus    ₹45,999         86\n",
              "18                          Vivo V25 Pro 5G    ₹35,999         85\n",
              "19                           OnePlus 10R 5G    ₹32,999         86"
            ],
            "text/html": [
              "\n",
              "  <div id=\"df-04bac9db-d13d-4398-abcd-43f4561527c1\">\n",
              "    <div class=\"colab-df-container\">\n",
              "      <div>\n",
              "<style scoped>\n",
              "    .dataframe tbody tr th:only-of-type {\n",
              "        vertical-align: middle;\n",
              "    }\n",
              "\n",
              "    .dataframe tbody tr th {\n",
              "        vertical-align: top;\n",
              "    }\n",
              "\n",
              "    .dataframe thead th {\n",
              "        text-align: right;\n",
              "    }\n",
              "</style>\n",
              "<table border=\"1\" class=\"dataframe\">\n",
              "  <thead>\n",
              "    <tr style=\"text-align: right;\">\n",
              "      <th></th>\n",
              "      <th>mobile</th>\n",
              "      <th>price</th>\n",
              "      <th>spec-score</th>\n",
              "    </tr>\n",
              "  </thead>\n",
              "  <tbody>\n",
              "    <tr>\n",
              "      <th>0</th>\n",
              "      <td>OnePlus 11 5G</td>\n",
              "      <td>₹54,999</td>\n",
              "      <td>89</td>\n",
              "    </tr>\n",
              "    <tr>\n",
              "      <th>1</th>\n",
              "      <td>OnePlus Nord CE 2 Lite 5G</td>\n",
              "      <td>₹19,949</td>\n",
              "      <td>81</td>\n",
              "    </tr>\n",
              "    <tr>\n",
              "      <th>2</th>\n",
              "      <td>Samsung Galaxy A14 5G</td>\n",
              "      <td>₹16,499</td>\n",
              "      <td>75</td>\n",
              "    </tr>\n",
              "    <tr>\n",
              "      <th>3</th>\n",
              "      <td>Samsung Galaxy F23 5G (6GB RAM + 128GB)</td>\n",
              "      <td>₹16,999</td>\n",
              "      <td>80</td>\n",
              "    </tr>\n",
              "    <tr>\n",
              "      <th>4</th>\n",
              "      <td>Motorola Moto G62 5G</td>\n",
              "      <td>₹14,999</td>\n",
              "      <td>81</td>\n",
              "    </tr>\n",
              "    <tr>\n",
              "      <th>5</th>\n",
              "      <td>Realme 10 Pro Plus</td>\n",
              "      <td>₹24,999</td>\n",
              "      <td>82</td>\n",
              "    </tr>\n",
              "    <tr>\n",
              "      <th>6</th>\n",
              "      <td>Apple iPhone 14</td>\n",
              "      <td>₹66,999</td>\n",
              "      <td>81</td>\n",
              "    </tr>\n",
              "    <tr>\n",
              "      <th>7</th>\n",
              "      <td>Xiaomi Redmi Note 12 Pro Plus</td>\n",
              "      <td>₹29,999</td>\n",
              "      <td>86</td>\n",
              "    </tr>\n",
              "    <tr>\n",
              "      <th>8</th>\n",
              "      <td>Nothing Phone 1</td>\n",
              "      <td>₹26,749</td>\n",
              "      <td>85</td>\n",
              "    </tr>\n",
              "    <tr>\n",
              "      <th>9</th>\n",
              "      <td>OnePlus Nord 2T 5G</td>\n",
              "      <td>₹28,900</td>\n",
              "      <td>84</td>\n",
              "    </tr>\n",
              "    <tr>\n",
              "      <th>10</th>\n",
              "      <td>Realme 10 Pro</td>\n",
              "      <td>₹18,999</td>\n",
              "      <td>82</td>\n",
              "    </tr>\n",
              "    <tr>\n",
              "      <th>11</th>\n",
              "      <td>Oppo A78</td>\n",
              "      <td>₹18,999</td>\n",
              "      <td>79</td>\n",
              "    </tr>\n",
              "    <tr>\n",
              "      <th>12</th>\n",
              "      <td>Xiaomi Redmi Note 12 Pro 5G</td>\n",
              "      <td>₹24,828</td>\n",
              "      <td>79</td>\n",
              "    </tr>\n",
              "    <tr>\n",
              "      <th>13</th>\n",
              "      <td>Vivo T1 5G (6GB RAM + 128GB)</td>\n",
              "      <td>₹16,990</td>\n",
              "      <td>80</td>\n",
              "    </tr>\n",
              "    <tr>\n",
              "      <th>14</th>\n",
              "      <td>Apple iPhone 13</td>\n",
              "      <td>₹62,990</td>\n",
              "      <td>79</td>\n",
              "    </tr>\n",
              "    <tr>\n",
              "      <th>15</th>\n",
              "      <td>Samsung Galaxy S23 Ultra 5G</td>\n",
              "      <td>₹1,14,990</td>\n",
              "      <td>None</td>\n",
              "    </tr>\n",
              "    <tr>\n",
              "      <th>16</th>\n",
              "      <td>Vivo Y16</td>\n",
              "      <td>₹9,999</td>\n",
              "      <td>65</td>\n",
              "    </tr>\n",
              "    <tr>\n",
              "      <th>17</th>\n",
              "      <td>OPPO Reno 9 Pro Plus</td>\n",
              "      <td>₹45,999</td>\n",
              "      <td>86</td>\n",
              "    </tr>\n",
              "    <tr>\n",
              "      <th>18</th>\n",
              "      <td>Vivo V25 Pro 5G</td>\n",
              "      <td>₹35,999</td>\n",
              "      <td>85</td>\n",
              "    </tr>\n",
              "    <tr>\n",
              "      <th>19</th>\n",
              "      <td>OnePlus 10R 5G</td>\n",
              "      <td>₹32,999</td>\n",
              "      <td>86</td>\n",
              "    </tr>\n",
              "  </tbody>\n",
              "</table>\n",
              "</div>\n",
              "      <button class=\"colab-df-convert\" onclick=\"convertToInteractive('df-04bac9db-d13d-4398-abcd-43f4561527c1')\"\n",
              "              title=\"Convert this dataframe to an interactive table.\"\n",
              "              style=\"display:none;\">\n",
              "        \n",
              "  <svg xmlns=\"http://www.w3.org/2000/svg\" height=\"24px\"viewBox=\"0 0 24 24\"\n",
              "       width=\"24px\">\n",
              "    <path d=\"M0 0h24v24H0V0z\" fill=\"none\"/>\n",
              "    <path d=\"M18.56 5.44l.94 2.06.94-2.06 2.06-.94-2.06-.94-.94-2.06-.94 2.06-2.06.94zm-11 1L8.5 8.5l.94-2.06 2.06-.94-2.06-.94L8.5 2.5l-.94 2.06-2.06.94zm10 10l.94 2.06.94-2.06 2.06-.94-2.06-.94-.94-2.06-.94 2.06-2.06.94z\"/><path d=\"M17.41 7.96l-1.37-1.37c-.4-.4-.92-.59-1.43-.59-.52 0-1.04.2-1.43.59L10.3 9.45l-7.72 7.72c-.78.78-.78 2.05 0 2.83L4 21.41c.39.39.9.59 1.41.59.51 0 1.02-.2 1.41-.59l7.78-7.78 2.81-2.81c.8-.78.8-2.07 0-2.86zM5.41 20L4 18.59l7.72-7.72 1.47 1.35L5.41 20z\"/>\n",
              "  </svg>\n",
              "      </button>\n",
              "      \n",
              "  <style>\n",
              "    .colab-df-container {\n",
              "      display:flex;\n",
              "      flex-wrap:wrap;\n",
              "      gap: 12px;\n",
              "    }\n",
              "\n",
              "    .colab-df-convert {\n",
              "      background-color: #E8F0FE;\n",
              "      border: none;\n",
              "      border-radius: 50%;\n",
              "      cursor: pointer;\n",
              "      display: none;\n",
              "      fill: #1967D2;\n",
              "      height: 32px;\n",
              "      padding: 0 0 0 0;\n",
              "      width: 32px;\n",
              "    }\n",
              "\n",
              "    .colab-df-convert:hover {\n",
              "      background-color: #E2EBFA;\n",
              "      box-shadow: 0px 1px 2px rgba(60, 64, 67, 0.3), 0px 1px 3px 1px rgba(60, 64, 67, 0.15);\n",
              "      fill: #174EA6;\n",
              "    }\n",
              "\n",
              "    [theme=dark] .colab-df-convert {\n",
              "      background-color: #3B4455;\n",
              "      fill: #D2E3FC;\n",
              "    }\n",
              "\n",
              "    [theme=dark] .colab-df-convert:hover {\n",
              "      background-color: #434B5C;\n",
              "      box-shadow: 0px 1px 3px 1px rgba(0, 0, 0, 0.15);\n",
              "      filter: drop-shadow(0px 1px 2px rgba(0, 0, 0, 0.3));\n",
              "      fill: #FFFFFF;\n",
              "    }\n",
              "  </style>\n",
              "\n",
              "      <script>\n",
              "        const buttonEl =\n",
              "          document.querySelector('#df-04bac9db-d13d-4398-abcd-43f4561527c1 button.colab-df-convert');\n",
              "        buttonEl.style.display =\n",
              "          google.colab.kernel.accessAllowed ? 'block' : 'none';\n",
              "\n",
              "        async function convertToInteractive(key) {\n",
              "          const element = document.querySelector('#df-04bac9db-d13d-4398-abcd-43f4561527c1');\n",
              "          const dataTable =\n",
              "            await google.colab.kernel.invokeFunction('convertToInteractive',\n",
              "                                                     [key], {});\n",
              "          if (!dataTable) return;\n",
              "\n",
              "          const docLinkHtml = 'Like what you see? Visit the ' +\n",
              "            '<a target=\"_blank\" href=https://colab.research.google.com/notebooks/data_table.ipynb>data table notebook</a>'\n",
              "            + ' to learn more about interactive tables.';\n",
              "          element.innerHTML = '';\n",
              "          dataTable['output_type'] = 'display_data';\n",
              "          await google.colab.output.renderOutput(dataTable, element);\n",
              "          const docLink = document.createElement('div');\n",
              "          docLink.innerHTML = docLinkHtml;\n",
              "          element.appendChild(docLink);\n",
              "        }\n",
              "      </script>\n",
              "    </div>\n",
              "  </div>\n",
              "  "
            ]
          },
          "metadata": {},
          "execution_count": 60
        }
      ]
    },
    {
      "cell_type": "code",
      "source": [],
      "metadata": {
        "id": "2Whd5FuStsK8"
      },
      "execution_count": null,
      "outputs": []
    },
    {
      "cell_type": "code",
      "source": [],
      "metadata": {
        "id": "BNZEdOxDtsNM"
      },
      "execution_count": null,
      "outputs": []
    },
    {
      "cell_type": "code",
      "source": [],
      "metadata": {
        "id": "JGviX9XDtsPc"
      },
      "execution_count": null,
      "outputs": []
    },
    {
      "cell_type": "code",
      "source": [],
      "metadata": {
        "id": "fFcFg6IRtsRU"
      },
      "execution_count": null,
      "outputs": []
    },
    {
      "cell_type": "code",
      "source": [],
      "metadata": {
        "id": "1oFpMLvmtseB"
      },
      "execution_count": null,
      "outputs": []
    },
    {
      "cell_type": "code",
      "source": [],
      "metadata": {
        "id": "gh8kXKE7tshc"
      },
      "execution_count": null,
      "outputs": []
    }
  ]
}